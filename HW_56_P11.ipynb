{
  "nbformat": 4,
  "nbformat_minor": 0,
  "metadata": {
    "colab": {
      "provenance": [],
      "authorship_tag": "ABX9TyOBB88QqCKUf+dtON+lq19Q",
      "include_colab_link": true
    },
    "kernelspec": {
      "name": "python3",
      "display_name": "Python 3"
    },
    "language_info": {
      "name": "python"
    }
  },
  "cells": [
    {
      "cell_type": "markdown",
      "metadata": {
        "id": "view-in-github",
        "colab_type": "text"
      },
      "source": [
        "<a href=\"https://colab.research.google.com/github/Scodingcurriculum/G56-Python-2025/blob/main/HW_56_P11.ipynb\" target=\"_parent\"><img src=\"https://colab.research.google.com/assets/colab-badge.svg\" alt=\"Open In Colab\"/></a>"
      ]
    },
    {
      "cell_type": "markdown",
      "source": [
        "A word-building game where players receive random letters and must form valid words using them. The game checks if the words exist in a dictionary and if only the given letters are used. Players need to find three correct words to win!          "
      ],
      "metadata": {
        "id": "0SgoCK0x1gpr"
      }
    },
    {
      "cell_type": "code",
      "execution_count": null,
      "metadata": {
        "colab": {
          "base_uri": "https://localhost:8080/"
        },
        "id": "uc2pqS12xsnL",
        "outputId": "12298837-81a2-40f9-c143-cfcd58650bef"
      },
      "outputs": [
        {
          "output_type": "stream",
          "name": "stderr",
          "text": [
            "[nltk_data] Downloading package words to /root/nltk_data...\n",
            "[nltk_data]   Unzipping corpora/words.zip.\n"
          ]
        }
      ],
      "source": [
        "import nltk\n",
        "nltk.download('words')\n",
        "from nltk.corpus import words\n",
        "valid_words = set(words.words())  # Load the dictionary"
      ]
    },
    {
      "cell_type": "code",
      "source": [
        "import random\n",
        "import string\n",
        "from nltk.corpus import words\n",
        "\n",
        "# Load the word list\n",
        "valid_words = set(words.words())\n",
        "\n",
        "def generate_random_letters(count=6):\n",
        "    \"\"\"Generate a random set of letters.\"\"\"\n",
        "    return random.choices(string.ascii_lowercase, k=count)\n",
        "\n",
        "def is_valid_word(word, letters):\n",
        "    \"\"\"Check if the word is valid and uses only the given letters.\"\"\"\n",
        "    return word in valid_words and all(word.count(l) <= letters.count(l) for l in word)\n",
        "\n",
        "def play_game():\n",
        "    letters = generate_random_letters()\n",
        "    print(f\"\\n🔠 Use these letters to form words: {' '.join(letters)}\")\n",
        "\n",
        "    correct_count = 0\n",
        "    required_words = 3\n",
        "    print(f\"\\n💡 Find {required_words} valid words from the given letters!\\n\")\n",
        "\n",
        "    for attempt in range(required_words):\n",
        "        user_word = input(f\"Enter word {attempt+1}: \").strip().lower()\n",
        "\n",
        "        if is_valid_word(user_word, letters):\n",
        "            print(\"✅ Correct!\")\n",
        "            correct_count += 1\n",
        "        else:\n",
        "            print(\"❌ Invalid word. Try again!\")\n",
        "\n",
        "    if correct_count == required_words:\n",
        "        print(\"\\n🎉 Congratulations! You deduced all valid words!\")\n",
        "    else:\n",
        "        print(\"\\n❌ Game Over! Better luck next time.\")\n",
        "\n",
        "# Run the game\n",
        "play_game()\n"
      ],
      "metadata": {
        "id": "rdLrDcchxy_T"
      },
      "execution_count": null,
      "outputs": []
    },
    {
      "cell_type": "markdown",
      "source": [
        "Let the program genrate words if user missed any of them."
      ],
      "metadata": {
        "id": "0e5wcX041_ET"
      }
    },
    {
      "cell_type": "code",
      "source": [
        "import random\n",
        "import string\n",
        "from nltk.corpus import words\n",
        "\n",
        "# Load the word list\n",
        "valid_words = set(words.words())\n",
        "\n",
        "def generate_random_letters(count=6):\n",
        "    \"\"\"Generate a random set of letters.\"\"\"\n",
        "    return random.choices(string.ascii_lowercase, k=count)\n",
        "\n",
        "def is_valid_word(word, letters):\n",
        "    \"\"\"Check if the word is valid and uses only the given letters.\"\"\"\n",
        "    return word in valid_words and all(word.count(l) <= letters.count(l) for l in word)\n",
        "\n",
        "\n",
        "\n",
        "def play_game():\n",
        "    # Generate a random set of letters\n",
        "    letters = generate_random_letters()\n",
        "    print(f\"\\n🔠 Use these letters to form words: {' '.join(letters)}\")\n",
        "\n",
        "    correct_count = 0\n",
        "    required_words = 3\n",
        "    print(f\"\\n💡 Find {required_words} valid words from the given letters!\\n\")\n",
        "\n",
        "    found_words = []  # To keep track of the words the user correctly finds\n",
        "    for attempt in range(required_words):\n",
        "        # Ask the user to enter a word and check if it is valid\n",
        "        user_word = input(f\"Enter word {attempt+1}: \").strip().lower()\n",
        "\n",
        "        if is_valid_word(user_word, letters):  # Check if the word is valid\n",
        "            print(\"✅ Correct!\")\n",
        "            correct_count += 1\n",
        "            found_words.append(user_word)  # Store the correctly found word\n",
        "        else:\n",
        "            print(\"❌ Invalid word. Try again!\")\n",
        "\n",
        "    # If the user missed any words, show the correct words\n",
        "    if correct_count < required_words:\n",
        "        # Find the valid words that the user missed\n",
        "        missing_words = [word for word in generate_valid_words(letters) if word not in found_words]\n",
        "\n",
        "        print(\"\\n🔑 Here are some valid words you could have found:\")\n",
        "        for word in missing_words:\n",
        "            print(f\" - {word}\")  # Display each missed valid word\n",
        "\n",
        "    # Final message based on the user's performance\n",
        "    if correct_count == required_words:\n",
        "        print(\"\\n🎉 Congratulations! You deduced all valid words!\")\n",
        "    else:\n",
        "        print(\"\\n❌ Game Over! Better luck next time.\")\n",
        "\n",
        "# Run the game\n",
        "play_game()\n"
      ],
      "metadata": {
        "id": "TJKtjUC119eB"
      },
      "execution_count": null,
      "outputs": []
    },
    {
      "cell_type": "markdown",
      "source": [],
      "metadata": {
        "id": "oAkXJPYp2C0Y"
      }
    },
    {
      "cell_type": "code",
      "source": [
        "import nltk\n",
        "from nltk.corpus import wordnet as wn\n",
        "\n",
        "# Ensure WordNet is downloaded\n",
        "nltk.download('wordnet')\n",
        "nltk.download('omw-1.4')\n",
        "\n",
        "# Function to get synonyms of a word\n",
        "def get_synonyms(word):\n",
        "    synonyms = set()\n",
        "\n",
        "    # Get synsets (different meanings) of the word\n",
        "    for synset in wn.synsets(word):\n",
        "        # Add the lemmas (synonyms) of each synset to the set\n",
        "        for lemma in synset.lemmas():\n",
        "            synonyms.add(lemma.name())\n",
        "\n",
        "    return synonyms\n",
        "\n",
        "# Function to show word meanings based on context (synsets)\n",
        "def show_word_meanings(word):\n",
        "    print(f\"\\nMeanings of '{word}' based on context:\")\n",
        "    synsets = wn.synsets(word)\n",
        "    for i, synset in enumerate(synsets):\n",
        "        print(f\"\\nSense {i + 1}: {synset.name()}\")\n",
        "        print(f\"Definition: {synset.definition()}\")\n",
        "        print(f\"Examples: {synset.examples()}\")\n",
        "\n",
        "def main():\n",
        "    # Take the word input from the user\n",
        "    word = input(\"Enter a word to find its synonyms and meanings: \").strip().lower()\n",
        "\n",
        "    # Get and print synonyms\n",
        "    synonyms = get_synonyms(word)\n",
        "    print(f\"\\nSynonyms of '{word}':\")\n",
        "    print(\", \".join(synonyms) if synonyms else \"No synonyms found.\")\n",
        "\n",
        "    # Show word meanings based on context (synsets)\n",
        "    show_word_meanings(word)\n",
        "\n",
        "# Run the program\n",
        "main()\n"
      ],
      "metadata": {
        "id": "6_ODAUue2DPo"
      },
      "execution_count": null,
      "outputs": []
    }
  ]
}