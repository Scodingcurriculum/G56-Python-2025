{
  "nbformat": 4,
  "nbformat_minor": 0,
  "metadata": {
    "colab": {
      "provenance": [],
      "include_colab_link": true
    },
    "kernelspec": {
      "name": "python3",
      "display_name": "Python 3"
    },
    "language_info": {
      "name": "python"
    }
  },
  "cells": [
    {
      "cell_type": "markdown",
      "metadata": {
        "id": "view-in-github",
        "colab_type": "text"
      },
      "source": [
        "<a href=\"https://colab.research.google.com/github/Scodingcurriculum/G56-Python-2025/blob/main/PY_56_10_dictionary.ipynb\" target=\"_parent\"><img src=\"https://colab.research.google.com/assets/colab-badge.svg\" alt=\"Open In Colab\"/></a>"
      ]
    },
    {
      "cell_type": "markdown",
      "source": [
        "Let’s make this like a restaurant ordering system using a dictionary."
      ],
      "metadata": {
        "id": "0VxgJjJyGHhf"
      }
    },
    {
      "cell_type": "code",
      "execution_count": null,
      "metadata": {
        "colab": {
          "base_uri": "https://localhost:8080/"
        },
        "id": "TiNod-jkFb_H",
        "outputId": "a35acc05-1d66-4141-8a3c-587fd3275d48"
      },
      "outputs": [
        {
          "output_type": "stream",
          "name": "stdout",
          "text": [
            "🍴 Welcome to the Restaurant!\n",
            "Here is our menu:\n",
            "Burger: $5\n",
            "Pizza: $8\n",
            "Pasta: $7\n",
            "Salad: $4\n",
            "Soda: $2\n",
            "\n",
            "How many items would you like to order? 2\n",
            "Enter item 1: burger\n",
            "❌ Sorry, burger is not on the menu.\n",
            "Enter item 2: Burger\n",
            "Added Burger - $5\n",
            "\n",
            "Your total bill is: $5\n"
          ]
        }
      ],
      "source": [
        "# Predefined restaurant menu (item: price in dollars)\n",
        "menu = {\n",
        "    \"Burger\": 5,\n",
        "    \"Pizza\": 8,\n",
        "    \"Pasta\": 7,\n",
        "    \"Salad\": 4,\n",
        "    \"Soda\": 2\n",
        "}\n",
        "\n",
        "print(\"Welcome to the Restaurant!\")\n",
        "print(\"Here is our menu:\")\n",
        "for item, price in menu.items():\n",
        "    print(f\"{item}: ${price}\")\n",
        "\n",
        "# Ask how many items to order\n",
        "n = int(input(\"\\nHow many items would you like to order? \"))\n",
        "\n",
        "total = 0\n",
        "for i in range(n):\n",
        "    order = input(f\"Enter item {i+1}: \")\n",
        "    if order in menu:\n",
        "        total += menu[order]\n",
        "        print(f\"Added {order} - ${menu[order]}\")\n",
        "    else:\n",
        "        print(f\"❌ Sorry, {order} is not on the menu.\")\n",
        "\n",
        "print(f\"\\nYour total bill is: ${total}\")"
      ]
    },
    {
      "cell_type": "markdown",
      "source": [
        "We can find the most expensive and cheapest item using max() and min() with key=menu.get."
      ],
      "metadata": {
        "id": "J0IkPxORGQrg"
      }
    },
    {
      "cell_type": "code",
      "source": [
        "# Predefined restaurant menu (item: price in dollars)\n",
        "menu = {\n",
        "    \"Burger\": 5,\n",
        "    \"Pizza\": 8,\n",
        "    \"Pasta\": 7,\n",
        "    \"Salad\": 4,\n",
        "    \"Soda\": 2\n",
        "}\n",
        "\n",
        "print(\"🍴 Welcome to the Restaurant!\")\n",
        "print(\"Here is our menu:\")\n",
        "for item, price in menu.items():\n",
        "    print(f\"{item}: ${price}\")\n",
        "\n",
        "# Ask how many items to order\n",
        "n = int(input(\"\\nHow many items would you like to order? \"))\n",
        "\n",
        "total = 0\n",
        "for i in range(n):\n",
        "    order = input(f\"Enter item {i+1}: \")\n",
        "    if order in menu:\n",
        "        total += menu[order]\n",
        "        print(f\"Added {order} - ${menu[order]}\")\n",
        "    else:\n",
        "        print(f\"❌ Sorry, {order} is not on the menu.\")\n",
        "\n",
        "print(f\"\\nYour total bill is: ${total}\")\n",
        "\n",
        "# Additional activity: Find cheapest and most expensive item\n",
        "most_expensive = max(menu, key=menu.get)\n",
        "cheapest = min(menu, key=menu.get)\n",
        "\n",
        "print(\"\\n Additional Info:\")\n",
        "\n",
        "\n"
      ],
      "metadata": {
        "id": "buhmRH3kF5tI"
      },
      "execution_count": null,
      "outputs": []
    },
    {
      "cell_type": "markdown",
      "source": [
        "SuperHero Database: Store superhero names as keys and their powers as values in a dictionary. Allow users to:\n",
        "1. Add a new superhero.\n",
        "2. Find a superhero’s power.\n",
        "3. List all superheroes."
      ],
      "metadata": {
        "id": "vXUAIGwhGzMP"
      }
    },
    {
      "cell_type": "code",
      "source": [
        "superhero_database = {}\n",
        "\n",
        "def add_superhero():\n",
        "    \"\"\"Function to add a new superhero and their power to the database.\"\"\"\n",
        "    name = input(\"Enter the superhero name: \").title()\n",
        "    power = input(f\"Enter {name}'s superpower: \").title()\n",
        "    superhero_database[name] = power\n",
        "    print(f\"\\n✅ {name} has been added to the superhero database with the power '{power}'!\")\n",
        "\n",
        "def find_superhero_power():\n",
        "    \"\"\"Function to find a superhero's power by their name.\"\"\"\n",
        "    name = input(\"Enter the superhero name to find their power: \").title()\n",
        "    if name in superhero_database:\n",
        "        print(f\"\\n🔍 {name}'s superpower is: {superhero_database[name]}\")\n",
        "    else:\n",
        "        print(f\"\\n❌ Sorry, {name} is not in the superhero database.\")\n",
        "\n",
        "def list_all_superheroes():\n",
        "    \"\"\"Function to list all superheroes and their powers.\"\"\"\n",
        "    if superhero_database:\n",
        "        print(\"\\nList of All Superheroes and Their Powers:\")\n",
        "        for name, power in superhero_database.items():\n",
        "            print(f\"- {name}: {power}\")\n",
        "    else:\n",
        "        print(\"\\n❌ No superheroes have been added to the database yet.\")\n",
        "\n",
        "def main():\n",
        "    \"\"\"Main function to run the superhero database program.\"\"\"\n",
        "    while True:\n",
        "        print(\"\\nWelcome to the Superhero Database!\")\n",
        "        print(\"1. Add a new superhero\")\n",
        "        print(\"2. Find a superhero's power\")\n",
        "        print(\"3. List all superheroes\")\n",
        "        print(\"4. Exit\")\n",
        "\n",
        "        choice = input(\"\\nEnter your choice (1, 2, 3, or 4): \")\n",
        "\n",
        "        if choice == \"1\":\n",
        "            add_superhero()\n",
        "        elif choice == \"2\":\n",
        "            find_superhero_power()\n",
        "        elif choice == \"3\":\n",
        "            list_all_superheroes()\n",
        "        elif choice == \"4\":\n",
        "            print(\"\\nExiting the Superhero Database. Thank you for using it!\")\n",
        "            break\n",
        "        else:\n",
        "            print(\"\\n❌ Invalid choice. Please select 1, 2, 3, or 4.\")\n",
        "\n",
        "# Run the main program\n",
        "main()\n"
      ],
      "metadata": {
        "colab": {
          "base_uri": "https://localhost:8080/"
        },
        "id": "xRSAysqlGzen",
        "outputId": "ba427a02-83be-4ace-f7b0-73a8062194c7"
      },
      "execution_count": null,
      "outputs": [
        {
          "output_type": "stream",
          "name": "stdout",
          "text": [
            "\n",
            "Welcome to the Superhero Database!\n",
            "1. Add a new superhero\n",
            "2. Find a superhero's power\n",
            "3. List all superheroes\n",
            "4. Exit\n",
            "\n",
            "Enter your choice (1, 2, 3, or 4): 1\n",
            "Enter the superhero name: captain america\n",
            "Enter Captain America's superpower: shield\n",
            "\n",
            "✅ Captain America has been added to the superhero database with the power 'Shield'!\n",
            "\n",
            "Welcome to the Superhero Database!\n",
            "1. Add a new superhero\n",
            "2. Find a superhero's power\n",
            "3. List all superheroes\n",
            "4. Exit\n",
            "\n",
            "Enter your choice (1, 2, 3, or 4): 2\n",
            "Enter the superhero name to find their power: captain america\n",
            "\n",
            "🔍 Captain America's superpower is: Shield\n",
            "\n",
            "Welcome to the Superhero Database!\n",
            "1. Add a new superhero\n",
            "2. Find a superhero's power\n",
            "3. List all superheroes\n",
            "4. Exit\n",
            "\n",
            "Enter your choice (1, 2, 3, or 4): 3\n",
            "\n",
            "List of All Superheroes and Their Powers:\n",
            "- Captain America: Shield\n",
            "\n",
            "Welcome to the Superhero Database!\n",
            "1. Add a new superhero\n",
            "2. Find a superhero's power\n",
            "3. List all superheroes\n",
            "4. Exit\n",
            "\n",
            "Enter your choice (1, 2, 3, or 4): 4\n",
            "\n",
            "Exiting the Superhero Database. Thank you for using it!\n"
          ]
        }
      ]
    }
  ]
}