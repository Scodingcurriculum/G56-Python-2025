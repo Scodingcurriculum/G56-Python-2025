{
  "nbformat": 4,
  "nbformat_minor": 0,
  "metadata": {
    "colab": {
      "provenance": [],
      "authorship_tag": "ABX9TyMXVA8Uue8UDYj4eLdz5gER",
      "include_colab_link": true
    },
    "kernelspec": {
      "name": "python3",
      "display_name": "Python 3"
    },
    "language_info": {
      "name": "python"
    }
  },
  "cells": [
    {
      "cell_type": "markdown",
      "metadata": {
        "id": "view-in-github",
        "colab_type": "text"
      },
      "source": [
        "<a href=\"https://colab.research.google.com/github/Scodingcurriculum/G56-Python-2025/blob/main/HW_56_P06.ipynb\" target=\"_parent\"><img src=\"https://colab.research.google.com/assets/colab-badge.svg\" alt=\"Open In Colab\"/></a>"
      ]
    },
    {
      "cell_type": "code",
      "source": [
        "# Initialize empty lists for cities and AQI values\n",
        "cities = [\"New York City\", \"Los Angeles\", \"Chicago\", \"Houston\"]\n",
        "aqi_values = [43, 53, 79, 36]\n",
        "\n",
        "\n",
        "# Initialize safe and dangerous city lists\n",
        "safe_cities = \"\"\n",
        "dangerous_cities = \"\"\n",
        "\n",
        "# Process each city and categorize using a for loop\n",
        "for i in range(len(cities)):\n",
        "    city = cities[i]\n",
        "    aqi = aqi_values[i]\n",
        "\n",
        "    if aqi <= 100:\n",
        "        safe_cities += city + f\" (AQI: {aqi})\\n\"\n",
        "    else:\n",
        "        dangerous_cities += city + f\" (AQI: {aqi})\\n\"\n",
        "\n",
        "# Output categorized results\n",
        "print(\"\\n🏙️ Safe Zone Cities (AQI ≤ 100):\\n\" + safe_cities)\n",
        "print(\"⚠️ Dangerous Zone Cities (AQI > 100):\\n\" + dangerous_cities)"
      ],
      "metadata": {
        "colab": {
          "base_uri": "https://localhost:8080/"
        },
        "id": "OQOzdYJ5qBi8",
        "outputId": "ae740689-3a5f-4815-9d99-f3d73b805d53"
      },
      "execution_count": null,
      "outputs": [
        {
          "output_type": "stream",
          "name": "stdout",
          "text": [
            "\n",
            "🏙️ Safe Zone Cities (AQI ≤ 100):\n",
            "New York City (AQI: 43)\n",
            "Los Angeles (AQI: 53)\n",
            "Chicago (AQI: 79)\n",
            "Houston (AQI: 36)\n",
            "\n",
            "⚠️ Dangerous Zone Cities (AQI > 100):\n",
            "\n"
          ]
        }
      ]
    },
    {
      "cell_type": "markdown",
      "source": [
        "Sort the cities in- safe and dangerous zones according to the amount of Pollution AQI."
      ],
      "metadata": {
        "id": "vcoPzKU4yzwC"
      }
    },
    {
      "cell_type": "code",
      "source": [
        "# Initialize empty lists for cities and AQI values\n",
        "cities = []\n",
        "aqi_values = []\n",
        "\n",
        "# Ask the user how many cities they want to enter\n",
        "num_cities = int(input(\"How many cities AQI do you want to enter? \"))\n",
        "\n",
        "# Dynamically add cities and AQI values using input with a for loop\n",
        "for i in range(num_cities):\n",
        "    city_name = input(f\"Enter name for city {i+1}: \")\n",
        "    aqi_value = int(input(f\"Enter AQI value for {city_name}: \"))\n",
        "    cities.append(city_name)\n",
        "    aqi_values.append(aqi_value)\n",
        "\n",
        "# Initialize safe and dangerous city lists\n",
        "safe_cities = \"\"\n",
        "dangerous_cities = \"\"\n",
        "\n",
        "# Process each city and categorize using a for loop\n",
        "for i in range(len(cities)):\n",
        "    city = cities[i]\n",
        "    aqi = aqi_values[i]\n",
        "\n",
        "    if aqi <= 100:\n",
        "        safe_cities += city + f\" (AQI: {aqi})\\n\"\n",
        "    else:\n",
        "        dangerous_cities += city + f\" (AQI: {aqi})\\n\"\n",
        "\n",
        "# Output categorized results\n",
        "print(\"\\n🏙️ Safe Zone Cities (AQI ≤ 100):\\n\" + safe_cities)\n",
        "print(\"⚠️ Dangerous Zone Cities (AQI > 100):\\n\" + dangerous_cities)"
      ],
      "metadata": {
        "id": "pzT7g_uHy3di",
        "colab": {
          "base_uri": "https://localhost:8080/"
        },
        "outputId": "19a8567f-26ea-451f-e695-074c6996ddb6"
      },
      "execution_count": null,
      "outputs": [
        {
          "output_type": "stream",
          "name": "stdout",
          "text": [
            "How many cities AQI do you want to enter? 4\n",
            "Enter name for city 1: Mumbai\n",
            "Enter AQI value for Mumbai: 108\n",
            "Enter name for city 2: New Delhi\n",
            "Enter AQI value for New Delhi: 132\n",
            "Enter name for city 3: Lucknow\n",
            "Enter AQI value for Lucknow: 89\n",
            "Enter name for city 4: Chennai\n",
            "Enter AQI value for Chennai: 80\n",
            "\n",
            "🏙️ Safe Zone Cities (AQI ≤ 100):\n",
            "Lucknow (AQI: 89)\n",
            "Chennai (AQI: 80)\n",
            "\n",
            "⚠️ Dangerous Zone Cities (AQI > 100):\n",
            "Mumbai (AQI: 108)\n",
            "New Delhi (AQI: 132)\n",
            "\n"
          ]
        }
      ]
    },
    {
      "cell_type": "markdown",
      "source": [
        "Heart Rate Classification\n",
        "You have a list of heart rate values recorded during different exercises. Based on the heart rate, classify it as \"Resting\", \"Moderate\", or \"Intense\".\n",
        "Input: A list of heart rate values (e.g., [72, 115, 140, 160, 90, 105, 130]).\n",
        "Output: Classify the heart rate as follows:\n",
        "    Resting: Below 80 bpm\n",
        "    Moderate: 80–120 bpm\n",
        "    Intense: Above 120 bpm"
      ],
      "metadata": {
        "id": "-ndG0_QWy_hx"
      }
    },
    {
      "cell_type": "code",
      "source": [
        "# List of heart rate values recorded during different exercises\n",
        "heart_rate_values = [72, 115, 140, 160, 90, 105, 130]\n",
        "\n",
        "# Loop through each heart rate value and classify it\n",
        "i = 0\n",
        "while i < len(heart_rate_values):\n",
        "    heart_rate = heart_rate_values[i]\n",
        "\n",
        "    if heart_rate < 80:\n",
        "        classification = \"Resting\"\n",
        "    elif 80 <= heart_rate <= 120:\n",
        "        classification = \"Moderate\"\n",
        "    else:\n",
        "        classification = \"Intense\"\n",
        "\n",
        "    print(f\"Heart Rate: {heart_rate} bpm - Classification: {classification}\")\n",
        "    i += 1\n"
      ],
      "metadata": {
        "id": "tWBCYu1tzEUx"
      },
      "execution_count": null,
      "outputs": []
    }
  ]
}