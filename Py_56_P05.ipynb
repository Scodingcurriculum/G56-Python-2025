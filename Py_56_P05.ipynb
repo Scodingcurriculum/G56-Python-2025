{
  "nbformat": 4,
  "nbformat_minor": 0,
  "metadata": {
    "colab": {
      "provenance": [],
      "authorship_tag": "ABX9TyPyuN78B2TIY9pcJbu+CYnf",
      "include_colab_link": true
    },
    "kernelspec": {
      "name": "python3",
      "display_name": "Python 3"
    },
    "language_info": {
      "name": "python"
    }
  },
  "cells": [
    {
      "cell_type": "markdown",
      "metadata": {
        "id": "view-in-github",
        "colab_type": "text"
      },
      "source": [
        "<a href=\"https://colab.research.google.com/github/Scodingcurriculum/G56-Python-2025/blob/main/Py_56_P05.ipynb\" target=\"_parent\"><img src=\"https://colab.research.google.com/assets/colab-badge.svg\" alt=\"Open In Colab\"/></a>"
      ]
    },
    {
      "cell_type": "markdown",
      "source": [
        "**Create a Python program that simulates a robot performing different actions (walking, jumping, scanning, and picking up objects) while its battery level is more than 15%. The program will display the robot's actions as text on the screen. When the battery reaches 15% or lower, the program will ask the user if they want to recharge the battery or shut down the robot.**"
      ],
      "metadata": {
        "id": "240egwucwIPV"
      }
    },
    {
      "cell_type": "code",
      "execution_count": null,
      "metadata": {
        "id": "Lv78bE3_vf-b"
      },
      "outputs": [],
      "source": [
        "import time  # Needed for delays\n",
        "\n",
        "battery = 100  # Start with full battery\n",
        "print(\"🤖 Robot starting... Battery at 100%.\")\n",
        "while battery > 15:\n",
        "    print(\"\\nRobot is performing actions...\")\n",
        "\n",
        "    print(\"🔹 Walking...\")\n",
        "    time.sleep(1)\n",
        "    battery -= 10\n",
        "\n",
        "    print(\"🔹 Jumping...\")\n",
        "    time.sleep(1)\n",
        "    battery -= 5\n",
        "\n",
        "    print(\"🔹 Scanning the area...\")\n",
        "    time.sleep(1)\n",
        "    battery -= 8\n",
        "\n",
        "    print(\"🔹 Picking up an object...\")\n",
        "    time.sleep(1)\n",
        "    battery -= 7\n",
        "\n",
        "    print(\"🔋 Battery level:\", battery, \"%\")\n",
        "    time.sleep(1)\n",
        "\n",
        "    if battery <= 15:\n",
        "        print(\"\\n⚠️ Battery low! (\", battery, \"%)\")\n",
        "        choice = input(\"Do you want to recharge the robot? (yes/no): \").lower()\n",
        "\n",
        "        if choice == \"yes\":\n",
        "            print(\"🔌 Recharging battery...\")\n",
        "            time.sleep(2)\n",
        "            battery = 100\n",
        "            print(\"✅ Battery recharged. Current level: 100%\")\n",
        "        else:\n",
        "            print(\"💤 Shutting down the robot. Goodbye!\")\n",
        "            break\n"
      ]
    },
    {
      "cell_type": "markdown",
      "source": [
        "**Add robot moods (happy, tired, low-battery warning emoji!)**"
      ],
      "metadata": {
        "id": "zJGAF0WDwFOD"
      }
    },
    {
      "cell_type": "code",
      "source": [
        "import time\n",
        "\n",
        "battery = 100  # Start with full battery\n",
        "mood = \"😊 Happy\"\n",
        "\n",
        "print(\"🤖 Robot starting... Battery at 100%. Mood:\", mood)\n",
        "\n",
        "while battery > 15:\n",
        "    print(\"\\nRobot is performing actions...\")\n",
        "\n",
        "    print(\"🔹 Walking...\")\n",
        "    time.sleep(1)\n",
        "    battery -= 10\n",
        "\n",
        "    print(\"🔹 Jumping...\")\n",
        "    time.sleep(1)\n",
        "    battery -= 5\n",
        "\n",
        "    print(\"🔹 Scanning the area...\")\n",
        "    time.sleep(1)\n",
        "    battery -= 8\n",
        "\n",
        "    print(\"🔹 Picking up an object...\")\n",
        "    time.sleep(1)\n",
        "    battery -= 7\n",
        "\n",
        "    # Set mood based on battery level\n",
        "    if battery > 60:\n",
        "        mood = \"😊 Happy\"\n",
        "    elif battery > 30:\n",
        "        mood = \"😐 Tired\"\n",
        "    else:\n",
        "        mood = \"😟 Low Battery\"\n",
        "\n",
        "    # Display status\n",
        "    print(\"🔋 Battery level:\", battery, \"%\")\n",
        "    print(\"🤖 Mood:\", mood)\n",
        "    time.sleep(1)\n",
        "\n",
        "    if battery <= 15:\n",
        "        print(\"\\n🚨 ⚠️ LOW BATTERY WARNING! ⚠️ 🔋\")\n",
        "        choice = input(\"Do you want to recharge the robot? (yes/no): \").lower()\n",
        "\n",
        "        if choice == \"yes\":\n",
        "            print(\"🔌 Recharging battery...\")\n",
        "            time.sleep(2)\n",
        "            battery = 100\n",
        "            mood = \"😊 Happy\"\n",
        "            print(\"✅ Battery recharged. Current level: 100%\")\n",
        "        else:\n",
        "            print(\"💤 Shutting down the robot. Goodbye!\")\n",
        "            break\n"
      ],
      "metadata": {
        "id": "FG7TzKAnwMOD"
      },
      "execution_count": null,
      "outputs": []
    },
    {
      "cell_type": "markdown",
      "source": [
        " **\"You have a sticker collection that starts with 0 stickers. Every day you get 3 new stickers. How many days will it take for you to collect at least 30 stickers?\n",
        "Input: The number of stickers you want to collect (e.g., 30).\n",
        "Output: The number of days it will take to collect that number of stickers**"
      ],
      "metadata": {
        "id": "mV-5Arq4wPyT"
      }
    },
    {
      "cell_type": "code",
      "source": [
        "# Input: target number of stickers\n",
        "target = int(input(\"Enter the number of stickers you want to collect: \"))\n",
        "\n",
        "stickers = 0\n",
        "days = 0\n",
        "\n",
        "while stickers < target:\n",
        "    stickers += 3\n",
        "    days += 1\n",
        "\n",
        "print(\"📅 It will take\", days, \"days to collect at least\", target, \"stickers.\")\n"
      ],
      "metadata": {
        "id": "YehnysXCwkbD",
        "colab": {
          "base_uri": "https://localhost:8080/"
        },
        "outputId": "a5a9deb7-bbd9-4964-c392-83a1fae042dc"
      },
      "execution_count": null,
      "outputs": [
        {
          "output_type": "stream",
          "name": "stdout",
          "text": [
            "Enter the number of stickers you want to collect: 15\n",
            "📅 It will take 5 days to collect at least 15 stickers.\n"
          ]
        }
      ]
    }
  ]
}