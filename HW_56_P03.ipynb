{
  "nbformat": 4,
  "nbformat_minor": 0,
  "metadata": {
    "colab": {
      "provenance": [],
      "authorship_tag": "ABX9TyNk9q5iZIzyT+9TU0e+x7S9",
      "include_colab_link": true
    },
    "kernelspec": {
      "name": "python3",
      "display_name": "Python 3"
    },
    "language_info": {
      "name": "python"
    }
  },
  "cells": [
    {
      "cell_type": "markdown",
      "metadata": {
        "id": "view-in-github",
        "colab_type": "text"
      },
      "source": [
        "<a href=\"https://colab.research.google.com/github/Scodingcurriculum/G56-Python-2025/blob/main/HW_56_P03.ipynb\" target=\"_parent\"><img src=\"https://colab.research.google.com/assets/colab-badge.svg\" alt=\"Open In Colab\"/></a>"
      ]
    },
    {
      "cell_type": "markdown",
      "source": [
        "**Determine if a person qualifies for a fitness challenge based on their age AND daily step count.t**"
      ],
      "metadata": {
        "id": "Nkt3QI72sEDv"
      }
    },
    {
      "cell_type": "code",
      "execution_count": null,
      "metadata": {
        "id": "4N8clpCjr4_w"
      },
      "outputs": [],
      "source": [
        "# 🏃 Fitness Challenge Eligibility Checker\n",
        "\n",
        "# Step 1: Get user input\n",
        "age = int(input(\"Enter your age: \"))\n",
        "steps = int(input(\"Enter your average daily step count: \"))\n",
        "\n",
        "# Step 2: Check qualification\n",
        "if age >= 18 and age <= 60 and steps >= 10000:\n",
        "    print(\"\\n✅ Congratulations! You qualify for the fitness challenge.\")\n",
        "else:\n",
        "    print(\"\\n❌ Sorry, you do not qualify for the fitness challenge.\")\n"
      ]
    },
    {
      "cell_type": "markdown",
      "source": [
        "**Set different levels of qualification and give a badge upon clearing a level.**"
      ],
      "metadata": {
        "id": "eWu2oH94sKCd"
      }
    },
    {
      "cell_type": "code",
      "source": [
        "# 🏃 Fitness Challenge Qualification Levels with Badges\n",
        "\n",
        "# Step 1: Get user input\n",
        "age = int(input(\"Enter your age: \"))\n",
        "steps = int(input(\"Enter your average daily step count: \"))\n",
        "\n",
        "# Step 2: Qualification logic with different levels and badges\n",
        "\n",
        "# For Age 18 to 30\n",
        "if 18 <= age <= 30:\n",
        "    if steps >= 10000:\n",
        "        print(\"\\n🏅 Congratulations! You've reached the Elite level and earned the 'Super Active' badge.\")\n",
        "    elif steps >= 5000:\n",
        "        print(\"\\n🥇 Congratulations! You've reached the Beginner level and earned the 'Starter' badge.\")\n",
        "    else:\n",
        "        print(\"\\n❌ Sorry, you do not qualify for the fitness challenge.\")\n",
        "\n",
        "# For Age 31 to 45\n",
        "elif 31 <= age <= 45:\n",
        "    if steps >= 15000:\n",
        "        print(\"\\n🏅 Congratulations! You've reached the Elite level and earned the 'Power Walker' badge.\")\n",
        "    elif steps >= 10000:\n",
        "        print(\"\\n🥇 Congratulations! You've reached the Intermediate level and earned the 'Regular Achiever' badge.\")\n",
        "    elif steps >= 5000:\n",
        "        print(\"\\n🎖️ Congratulations! You've reached the Beginner level and earned the 'Starter' badge.\")\n",
        "    else:\n",
        "        print(\"\\n❌ Sorry, you do not qualify for the fitness challenge.\")\n",
        "\n",
        "# For Age 46 to 60\n",
        "elif 46 <= age <= 60:\n",
        "    if steps >= 20000:\n",
        "        print(\"\\n🏅 Congratulations! You've reached the Elite level and earned the 'Super Active' badge.\")\n",
        "    elif steps >= 15000:\n",
        "        print(\"\\n🥇 Congratulations! You've reached the Advanced level and earned the 'High Achiever' badge.\")\n",
        "    elif steps >= 10000:\n",
        "        print(\"\\n🎖️ Congratulations! You've reached the Intermediate level and earned the 'Regular Achiever' badge.\")\n",
        "    elif steps >= 5000:\n",
        "        print(\"\\n🏅 Congratulations! You've reached the Beginner level and earned the 'Starter' badge.\")\n",
        "    else:\n",
        "        print(\"\\n❌ Sorry, you do not qualify for the fitness challenge.\")\n",
        "\n",
        "# For Age 60 and above\n",
        "else:\n",
        "    print(\"\\n❌ Sorry, you do not qualify for the fitness challenge.\")\n"
      ],
      "metadata": {
        "id": "mcFwx4jVsOPF"
      },
      "execution_count": null,
      "outputs": []
    },
    {
      "cell_type": "markdown",
      "source": [
        "**Park Entry Fee Calculator – Charge different fees based on age AND whether the person is a local resident.**"
      ],
      "metadata": {
        "id": "PpN8MMyQsOvV"
      }
    },
    {
      "cell_type": "code",
      "source": [
        "# 🌳 Park Entry Fee Calculator\n",
        "\n",
        "# Step 1: Get user input\n",
        "age = int(input(\"Enter your age: \"))\n",
        "is_local = input(\"Are you a local resident? (yes/no): \").lower()\n",
        "\n",
        "# Step 2: Calculate the fee based on age and residency\n",
        "if is_local == \"yes\":\n",
        "    if age < 12:\n",
        "        fee = 0  # Free for children\n",
        "        category = \"Child (under 12)\"\n",
        "    elif 12 <= age <= 60:\n",
        "        fee = 5  # Adults pay $5\n",
        "        category = \"Adult (12-60)\"\n",
        "    else:\n",
        "        fee = 3  # Seniors pay $3\n",
        "        category = \"Senior (60+)\"\n",
        "else:\n",
        "    if age < 12:\n",
        "        fee = 3  # Non-locals pay $3 for children\n",
        "        category = \"Child (under 12)\"\n",
        "    elif 12 <= age <= 60:\n",
        "        fee = 10  # Non-locals pay $10 for adults\n",
        "        category = \"Adult (12-60)\"\n",
        "    else:\n",
        "        fee = 7  # Non-locals pay $7 for seniors\n",
        "        category = \"Senior (60+)\"\n",
        "\n",
        "# Step 3: Display the fee and category\n",
        "print(f\"\\n--- Park Entry Fee ---\")\n",
        "print(f\"Category: {category}\")\n",
        "print(f\"Fee: ${fee}\")\n"
      ],
      "metadata": {
        "id": "CO4gDenfs5rt",
        "colab": {
          "base_uri": "https://localhost:8080/"
        },
        "outputId": "16ed3d2e-a6ba-477c-d446-59ae60659671"
      },
      "execution_count": null,
      "outputs": [
        {
          "output_type": "stream",
          "name": "stdout",
          "text": [
            "Enter your age: 20\n",
            "Are you a local resident? (yes/no): yes\n",
            "\n",
            "--- Park Entry Fee ---\n",
            "Category: Adult (12-60)\n",
            "Fee: $5\n"
          ]
        }
      ]
    }
  ]
}