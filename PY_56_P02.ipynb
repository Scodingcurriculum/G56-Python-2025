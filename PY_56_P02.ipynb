{
  "nbformat": 4,
  "nbformat_minor": 0,
  "metadata": {
    "colab": {
      "provenance": [],
      "authorship_tag": "ABX9TyP4fWYqjBTCCFdohYwV2c4Z",
      "include_colab_link": true
    },
    "kernelspec": {
      "name": "python3",
      "display_name": "Python 3"
    },
    "language_info": {
      "name": "python"
    }
  },
  "cells": [
    {
      "cell_type": "markdown",
      "metadata": {
        "id": "view-in-github",
        "colab_type": "text"
      },
      "source": [
        "<a href=\"https://colab.research.google.com/github/Scodingcurriculum/G56-Python-2025/blob/main/PY_56_P02.ipynb\" target=\"_parent\"><img src=\"https://colab.research.google.com/assets/colab-badge.svg\" alt=\"Open In Colab\"/></a>"
      ]
    },
    {
      "cell_type": "markdown",
      "source": [
        "**Write a Python program that calculates the total fuel cost for a road trip. **"
      ],
      "metadata": {
        "id": "kgKXIV1urSA4"
      }
    },
    {
      "cell_type": "code",
      "execution_count": null,
      "metadata": {
        "id": "OzaikUrUq9pw",
        "colab": {
          "base_uri": "https://localhost:8080/"
        },
        "outputId": "7ce94c43-4978-437a-f71e-6a31fd3c668d"
      },
      "outputs": [
        {
          "output_type": "stream",
          "name": "stdout",
          "text": [
            "Enter total distance of the trip (in km): 30\n",
            "Enter car's fuel efficiency (km per liter): 10\n",
            "Enter fuel price per liter: 10\n",
            "\n",
            "--- Trip Summary ---\n",
            "Total Distance: 30.0 km\n",
            "Fuel Efficiency: 10.0 km/l\n",
            "Fuel Used: 3.0 liters\n",
            "Fuel Price: $10.0 per liter\n",
            "Total Fuel Cost: $30.0\n"
          ]
        }
      ],
      "source": [
        "# 🚗 Road Trip Fuel Cost Calculator\n",
        "\n",
        "# Step 1: Get input from the user\n",
        "distance = float(input(\"Enter total distance of the trip (in km): \"))\n",
        "efficiency = float(input(\"Enter car's fuel efficiency (km per liter): \"))\n",
        "fuel_price = float(input(\"Enter fuel price per liter: \"))\n",
        "\n",
        "# Step 2: Calculate fuel used\n",
        "fuel_used = distance / efficiency\n",
        "\n",
        "# Step 3: Calculate total fuel cost - Additional Activity\n",
        "total_cost = fuel_used * fuel_price\n",
        "\n",
        "# Step 4: Display the results\n",
        "print(\"\\n--- Trip Summary ---\")\n",
        "print(\"Total Distance: \" + str(distance) + \" km\")\n",
        "print(\"Fuel Efficiency: \" + str(efficiency) + \" km/l\")\n",
        "print(\"Fuel Used: \" + str(round(fuel_used, 2)) + \" liters\")\n",
        "\n",
        "#Additional Activity\n",
        "print(\"Fuel Price: $\" + str(fuel_price) + \" per liter\")\n",
        "print(\"Total Fuel Cost: $\" + str(round(total_cost, 2)))\n"
      ]
    },
    {
      "cell_type": "markdown",
      "source": [
        "Homework: Water Consumption Cost Calculator\n",
        "Create a program that calculates the monthly water consumption cost for a household. The user provides:\n",
        "    1. Number of people in the household\n",
        "    2. Average water usage per person (in liters per day)\n",
        "The program will calculate the total water consumption and the cost for the month.\n",
        "Formula:\n",
        "Total Water Consumption = Number of People × Average Usage per Person × 30"
      ],
      "metadata": {
        "id": "IeCNvd6wrXDW"
      }
    },
    {
      "cell_type": "code",
      "source": [
        "# 💧 Water Consumption Cost Calculator\n",
        "\n",
        "# Step 1: Get user inputs\n",
        "num_people = int(input(\"Enter the number of people in the household: \"))\n",
        "usage_per_person = float(input(\"Enter average water usage per person per day (in liters): \"))\n",
        "cost_per_liter = float(input(\"Enter cost per liter of water (in your currency): \"))\n",
        "\n",
        "# Step 2: Calculate total monthly water consumption\n",
        "total_consumption = num_people * usage_per_person * 30\n",
        "\n",
        "# Step 3: Calculate total cost\n",
        "total_cost = total_consumption * cost_per_liter\n",
        "\n",
        "# Step 4: Display results\n",
        "print(\"\\n--- Monthly Water Usage Summary ---\")\n",
        "print(\"Total People: \" + str(num_people))\n",
        "print(\"Daily Usage per Person: \" + str(usage_per_person) + \" liters\")\n",
        "print(\"Total Water Consumption: \" + str(round(total_consumption, 2)) + \" liters\")\n",
        "print(\"Cost per Liter: \" + str(cost_per_liter))\n",
        "print(\"Total Monthly Water Cost: \" + str(round(total_cost, 2)))\n"
      ],
      "metadata": {
        "id": "rR0OY-8_rgie"
      },
      "execution_count": null,
      "outputs": []
    }
  ]
}