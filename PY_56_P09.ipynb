{
  "nbformat": 4,
  "nbformat_minor": 0,
  "metadata": {
    "colab": {
      "provenance": [],
      "authorship_tag": "ABX9TyPKpPsiTzvDIWVpeob9bD1a",
      "include_colab_link": true
    },
    "kernelspec": {
      "name": "python3",
      "display_name": "Python 3"
    },
    "language_info": {
      "name": "python"
    }
  },
  "cells": [
    {
      "cell_type": "markdown",
      "metadata": {
        "id": "view-in-github",
        "colab_type": "text"
      },
      "source": [
        "<a href=\"https://colab.research.google.com/github/Scodingcurriculum/G56-Python-2025/blob/main/PY_56_P09.ipynb\" target=\"_parent\"><img src=\"https://colab.research.google.com/assets/colab-badge.svg\" alt=\"Open In Colab\"/></a>"
      ]
    },
    {
      "cell_type": "markdown",
      "source": [
        "Find the biggest word in a given paragraph and calculate number of alphabets in it."
      ],
      "metadata": {
        "id": "yTWFQFoB1Ggj"
      }
    },
    {
      "cell_type": "code",
      "execution_count": null,
      "metadata": {
        "id": "nFy49SsDxrdM"
      },
      "outputs": [],
      "source": [
        "import string\n",
        "\n",
        "# Step 1: Get the input paragraph from the user\n",
        "paragraph = input(\"Enter a paragraph: \")\n",
        "\n",
        "# Step 2: Split the paragraph into words and remove punctuation\n",
        "# We'll use string.punctuation to remove punctuation marks\n",
        "words = paragraph.split()\n",
        "\n",
        "# Remove punctuation from each word and check for the longest word\n",
        "longest_word = \"\"\n",
        "max_length = 0\n",
        "\n",
        "for word in words:\n",
        "    # Remove punctuation and check the length of the word\n",
        "    cleaned_word = word.strip(string.punctuation)\n",
        "\n",
        "    # If the length of cleaned word is greater than current max_length, update\n",
        "    if len(cleaned_word) > max_length:\n",
        "        longest_word = cleaned_word\n",
        "        max_length = len(cleaned_word)\n",
        "\n",
        "# Step 3: Output the result\n",
        "print(f\"The biggest word is '{longest_word}' with {max_length} alphabets.\")\n"
      ]
    },
    {
      "cell_type": "markdown",
      "source": [
        "Create a Python program to sort the numerical list and find minimum and maximum number from the list."
      ],
      "metadata": {
        "id": "DxwdT65l1IwI"
      }
    },
    {
      "cell_type": "code",
      "source": [
        "# A list of numbers representing space wave strengths\n",
        "wave_strengths = [87, 23, 105, 45, 92, 18, 77, 30]\n",
        "\n",
        "# Sort the list from weakest to strongest\n",
        "wave_strengths.sort()\n",
        "\n",
        "# Find the weakest (minimum) wave\n",
        "weakest_wave = wave_strengths[0]\n",
        "\n",
        "# Find the strongest (maximum) wave\n",
        "strongest_wave = wave_strengths[-1]\n",
        "\n",
        "# Display the sorted list and the min/max values\n",
        "print(f\"Sorted wave strengths: {wave_strengths}\")\n",
        "print(f\"Weakest wave: {weakest_wave}\")\n",
        "print(f\"Strongest wave: {strongest_wave}\")\n"
      ],
      "metadata": {
        "id": "ErsvkR-i1MN4"
      },
      "execution_count": null,
      "outputs": []
    }
  ]
}