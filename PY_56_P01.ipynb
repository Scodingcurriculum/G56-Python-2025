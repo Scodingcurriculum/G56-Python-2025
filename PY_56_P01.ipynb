{
  "nbformat": 4,
  "nbformat_minor": 0,
  "metadata": {
    "colab": {
      "provenance": [],
      "authorship_tag": "ABX9TyMmk850ebI3n4u18bGUKzro",
      "include_colab_link": true
    },
    "kernelspec": {
      "name": "python3",
      "display_name": "Python 3"
    },
    "language_info": {
      "name": "python"
    }
  },
  "cells": [
    {
      "cell_type": "markdown",
      "metadata": {
        "id": "view-in-github",
        "colab_type": "text"
      },
      "source": [
        "<a href=\"https://colab.research.google.com/github/Scodingcurriculum/G56-Python-2025/blob/main/PY_56_P01.ipynb\" target=\"_parent\"><img src=\"https://colab.research.google.com/assets/colab-badge.svg\" alt=\"Open In Colab\"/></a>"
      ]
    },
    {
      "cell_type": "markdown",
      "source": [
        "**Write a python program to print the book details in a formatted way like: Name, author, pages, year of publishing, copies, available in which languages, price**"
      ],
      "metadata": {
        "id": "TWkOYukVpnGg"
      }
    },
    {
      "cell_type": "code",
      "execution_count": null,
      "metadata": {
        "id": "N30m-pMHny0w"
      },
      "outputs": [],
      "source": []
    },
    {
      "cell_type": "markdown",
      "source": [
        "**Additional Activity: Use f' statement to print the details of multiple books.**"
      ],
      "metadata": {
        "id": "Hek44IpDptbX"
      }
    },
    {
      "cell_type": "code",
      "source": [
        "# Book 1 details\n",
        "book1_name = \"To Kill a Mockingbird\"\n",
        "book1_author = \"Harper Lee\"\n",
        "book1_pages = 281\n",
        "book1_year = 1960\n",
        "book1_copies = 10\n",
        "book1_languages = \"English, Spanish\"\n",
        "book1_price = 9.99\n",
        "\n",
        "# Book 2 details\n",
        "book2_name = \"The Hobbit\"\n",
        "book2_author = \"J.R.R. Tolkien\"\n",
        "book2_pages = 310\n",
        "book2_year = 1937\n",
        "book2_copies = 5\n",
        "book2_languages = \"English, French\"\n",
        "book2_price = 14.50\n",
        "\n",
        "print(f\"\\n📘 Book: {book1_name}\")\n",
        "print(f\"✍️ Author: {book1_author}\")\n",
        "print(f\"📄 Pages: {book1_pages}\")\n",
        "print(f\"📅 Year of Publishing: {book1_year}\")\n",
        "print(f\"📦 Copies: {book1_copies}\")\n",
        "print(f\"🌐 Available in: {book1_languages}\")\n",
        "print(f\"💰 Price: ${book1_price:.2f}\")\n",
        "\n",
        "print(f\"\\n📘 Book: {book2_name}\")\n",
        "print(f\"✍️ Author: {book2_author}\")\n",
        "print(f\"📄 Pages: {book2_pages}\")\n",
        "print(f\"📅 Year of Publishing: {book2_year}\")\n",
        "print(f\"📦 Copies: {book2_copies}\")\n",
        "print(f\"🌐 Available in: {book2_languages}\")\n",
        "print(f\"💰 Price: ${book2_price:.2f}\")"
      ],
      "metadata": {
        "id": "Sd9wjFe9pxXn"
      },
      "execution_count": null,
      "outputs": []
    },
    {
      "cell_type": "markdown",
      "source": [
        "**Homework: Print the details of your favourite cartoon character.**"
      ],
      "metadata": {
        "id": "5GdjzEUrqGC_"
      }
    },
    {
      "cell_type": "code",
      "source": [
        "# Favorite cartoon character details\n",
        "character_name = \"SpongeBob SquarePants\"\n",
        "show_name = \"SpongeBob SquarePants\"\n",
        "creator = \"Stephen Hillenburg\"\n",
        "first_appearance = 1999\n",
        "is_funny = \"Yes\"\n",
        "\n",
        "# Printing the details using + for concatenation\n",
        "print(\"My Favorite Cartoon Character Details\\n\")\n",
        "\n",
        "print(\"Name: \" + character_name)\n",
        "print(\"Show: \" + show_name)\n",
        "print(\"Creator: \" + creator)\n",
        "print(\"First Appearance: \" + str(first_appearance))\n",
        "print(\"Is Funny: \" + is_funny)\n"
      ],
      "metadata": {
        "id": "gKYyMxCiqWav"
      },
      "execution_count": null,
      "outputs": []
    }
  ]
}