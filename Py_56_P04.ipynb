{
  "nbformat": 4,
  "nbformat_minor": 0,
  "metadata": {
    "colab": {
      "provenance": [],
      "authorship_tag": "ABX9TyPDx6I9Ih0GitUZDKm07+hi",
      "include_colab_link": true
    },
    "kernelspec": {
      "name": "python3",
      "display_name": "Python 3"
    },
    "language_info": {
      "name": "python"
    }
  },
  "cells": [
    {
      "cell_type": "markdown",
      "metadata": {
        "id": "view-in-github",
        "colab_type": "text"
      },
      "source": [
        "<a href=\"https://colab.research.google.com/github/Scodingcurriculum/G56-Python-2025/blob/main/Py_56_P04.ipynb\" target=\"_parent\"><img src=\"https://colab.research.google.com/assets/colab-badge.svg\" alt=\"Open In Colab\"/></a>"
      ]
    },
    {
      "cell_type": "markdown",
      "source": [
        "**Simple spam filter using string comparison**"
      ],
      "metadata": {
        "id": "MEPUzbmduxUU"
      }
    },
    {
      "cell_type": "code",
      "execution_count": null,
      "metadata": {
        "id": "rI2HA8trteZ9"
      },
      "outputs": [],
      "source": [
        "# Step 1: Get the email content from the user\n",
        "email_content = input(\"Enter the email content: \").lower()\n",
        "\n",
        "# Step 2: Check for spam and phishing keywords\n",
        "if \"win\" in email_content or \"prize\" in email_content or \"free money\" in email_content:\n",
        "    print(\"This email is marked as Spam.\")\n",
        "elif \"urgent banking request\" in email_content:\n",
        "    print(\"This email is flagged as a Phishing Attempt.\")\n",
        "else:\n",
        "    print(\"This email is Safe.\")\n"
      ]
    },
    {
      "cell_type": "markdown",
      "source": [
        "**Advanced spam filter with count of spam, phishing attacks and safe emails**"
      ],
      "metadata": {
        "id": "aGDpwVrPu70L"
      }
    },
    {
      "cell_type": "code",
      "source": [
        "# Initialize counters\n",
        "spam_count = 0\n",
        "phishing_count = 0\n",
        "safe_count = 0\n",
        "check_more = \"yes\"\n",
        "while check_more == \"yes\":\n",
        "    # Step 1: Get the email content\n",
        "    email = input(\"\\nEnter the email content: \").lower()\n",
        "\n",
        "    # Step 2: Keyword checks\n",
        "    is_spam = (\n",
        "        \"win\" in email\n",
        "        or \"prize\" in email\n",
        "        or \"free money\" in email\n",
        "        or \"lottery\" in email\n",
        "        or \"bonus\" in email\n",
        "        or \"exclusive offer\" in email\n",
        "    )\n",
        "\n",
        "    is_phishing = (\n",
        "        \"urgent banking request\" in email\n",
        "        or \"account verification\" in email\n",
        "        or \"login now\" in email\n",
        "        or \"update password\" in email\n",
        "        or \"confirm bank details\" in email\n",
        "    )\n",
        "\n",
        "    # Step 3: Classification\n",
        "    if is_phishing:\n",
        "        print(\"🚨 This email is flagged as a Phishing Attempt.\")\n",
        "        phishing_count += 1\n",
        "    elif is_spam:\n",
        "        print(\"⚠️ This email is marked as Spam.\")\n",
        "        spam_count += 1\n",
        "    else:\n",
        "        print(\"✅ This email is Safe.\")\n",
        "        safe_count += 1\n",
        "\n",
        "    # Step 4: Ask to continue\n",
        "    check_more = input(\"Do you want to check another email? (yes/no): \").lower()\n",
        "\n",
        "# Step 5: Final summary\n",
        "print(\"\\n📊 Email Scan Summary:\")\n",
        "print(\"Spam Emails:\", spam_count)\n",
        "print(\"Phishing Emails:\", phishing_count)\n",
        "print(\"Safe Emails:\", safe_count)\n"
      ],
      "metadata": {
        "id": "ndvXAWgtucrV"
      },
      "execution_count": null,
      "outputs": []
    },
    {
      "cell_type": "markdown",
      "source": [
        "**Homework: Emoji Replacer – Replace words like \"happy\" and \"sad\" with corresponding emojis in a sentence.**"
      ],
      "metadata": {
        "id": "Xv3rGBRSvI2b"
      }
    },
    {
      "cell_type": "code",
      "source": [
        "# Step 1: Get sentence input\n",
        "sentence = input(\"Enter a sentence: \").lower()\n",
        "\n",
        "# Step 2: Replace words with emojis using string replace\n",
        "if \"happy\" in sentence:\n",
        "    sentence = sentence.replace(\"happy\", \"😊\")\n",
        "if \"sad\" in sentence:\n",
        "    sentence = sentence.replace(\"sad\", \"😢\")\n",
        "if \"angry\" in sentence:\n",
        "    sentence = sentence.replace(\"angry\", \"😠\")\n",
        "if \"love\" in sentence:\n",
        "    sentence = sentence.replace(\"love\", \"❤️\")\n",
        "if \"surprised\" in sentence:\n",
        "    sentence = sentence.replace(\"surprised\", \"😲\")\n",
        "\n",
        "# Step 3: Output the updated sentence\n",
        "print(\"Emoji version:\", sentence)\n"
      ],
      "metadata": {
        "id": "hR9_EMTkuke0"
      },
      "execution_count": null,
      "outputs": []
    }
  ]
}