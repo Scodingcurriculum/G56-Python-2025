{
  "nbformat": 4,
  "nbformat_minor": 0,
  "metadata": {
    "colab": {
      "provenance": [],
      "authorship_tag": "ABX9TyMmKj1mViodJBy2GGI+iH5j",
      "include_colab_link": true
    },
    "kernelspec": {
      "name": "python3",
      "display_name": "Python 3"
    },
    "language_info": {
      "name": "python"
    }
  },
  "cells": [
    {
      "cell_type": "markdown",
      "metadata": {
        "id": "view-in-github",
        "colab_type": "text"
      },
      "source": [
        "<a href=\"https://colab.research.google.com/github/Scodingcurriculum/G56-Python-2025/blob/main/HW_56_P08.ipynb\" target=\"_parent\"><img src=\"https://colab.research.google.com/assets/colab-badge.svg\" alt=\"Open In Colab\"/></a>"
      ]
    },
    {
      "cell_type": "markdown",
      "source": [
        "Main Activity- to find the stops on a given route. Let the students substitute the names of stops from school to home."
      ],
      "metadata": {
        "id": "077gGFBWlRuf"
      }
    },
    {
      "cell_type": "code",
      "source": [
        "# List of stops on the route\n",
        "route_stops = (\"Station A\", \"Station B\", \"Station C\", \"Station D\", \"Station E\")\n",
        "\n",
        "def view_stops():\n",
        "    \"\"\"Display all stops in the route.\"\"\"\n",
        "    print(\"Stops on the route:\")\n",
        "    for index, stop in enumerate(route_stops):\n",
        "        print(f\"{index + 1}. {stop}\")\n",
        "\n",
        "def check_stop_exists(stop_name):\n",
        "    \"\"\"Check if the stop exists in the route.\"\"\"\n",
        "    if stop_name in route_stops:\n",
        "        print(f\"✅ {stop_name} is on the route!\")\n",
        "    else:\n",
        "        print(f\"❌ {stop_name} does not exist on the route.\")\n",
        "\n",
        "def find_distance_from_start(stop_name):\n",
        "    \"\"\"Find how many stops away the stop is from the starting point.\"\"\"\n",
        "    try:\n",
        "        stop_index = route_stops.index(stop_name)\n",
        "        print(f\"{stop_name} is {stop_index} stop(s) away from the starting\n",
        "                                                                     point.\")\n",
        "    except ValueError:\n",
        "        print(f\"❌ {stop_name} does not exist on the route.\")\n",
        "\n",
        "def main():\n",
        "        view_stops()\n",
        "        stop_name = input(\"Enter the name of the stop to check: \").strip()\n",
        "        check_stop_exists(stop_name)\n",
        "        stop_name = input(\"Enter the name of the stop to find distance: \").\n",
        "                                                                      strip()\n",
        "        find_distance_from_start(stop_name)\n",
        "\n",
        "# Run the program\n",
        "main()\n"
      ],
      "metadata": {
        "colab": {
          "base_uri": "https://localhost:8080/"
        },
        "id": "iVUXbnN3kuYe",
        "outputId": "0c726b5c-74ab-4d05-eb77-9b4be88580f5"
      },
      "execution_count": null,
      "outputs": [
        {
          "output_type": "stream",
          "name": "stdout",
          "text": [
            "Stops on the route:\n",
            "1. Station A\n",
            "2. Station B\n",
            "3. Station C\n",
            "4. Station D\n",
            "5. Station E\n",
            "Enter the name of the stop to check: station C\n",
            "❌ station C does not exist on the route.\n",
            "Enter the name of the stop to find distance: Station C\n",
            "Station C is 2 stop(s) away from the starting point.\n"
          ]
        }
      ]
    },
    {
      "cell_type": "markdown",
      "source": [
        "Additional Activity- Make it choice based stop finder program."
      ],
      "metadata": {
        "id": "8iKxReSGlfJY"
      }
    },
    {
      "cell_type": "code",
      "execution_count": null,
      "metadata": {
        "id": "Zna2cbRFw2qu"
      },
      "outputs": [],
      "source": [
        "# List of stops on the route\n",
        "route_stops = (\"Station A\", \"Station B\", \"Station C\", \"Station D\", \"Station E\")\n",
        "\n",
        "def view_stops():\n",
        "    \"\"\"Display all stops in the route.\"\"\"\n",
        "    print(\"Stops on the route:\")\n",
        "    for index, stop in enumerate(route_stops):\n",
        "        print(f\"{index + 1}. {stop}\")\n",
        "\n",
        "def check_stop_exists(stop_name):\n",
        "    \"\"\"Check if the stop exists in the route.\"\"\"\n",
        "    if stop_name in route_stops:\n",
        "        print(f\"✅ {stop_name} is on the route!\")\n",
        "    else:\n",
        "        print(f\"❌ {stop_name} does not exist on the route.\")\n",
        "\n",
        "def find_distance_from_start(stop_name):\n",
        "    \"\"\"Find how many stops away the stop is from the starting point.\"\"\"\n",
        "    try:\n",
        "        stop_index = route_stops.index(stop_name)\n",
        "        print(f\"{stop_name} is {stop_index} stop(s) away from the starting point.\")\n",
        "    except ValueError:\n",
        "        print(f\"❌ {stop_name} does not exist on the route.\")\n",
        "\n",
        "def main():\n",
        "    while True:\n",
        "        print(\"\\n1. View Stops\")\n",
        "        print(\"2. Check if a Stop Exists\")\n",
        "        print(\"3. Find Distance from Starting Point\")\n",
        "        print(\"4. Exit\")\n",
        "\n",
        "        choice = input(\"Enter your choice (1/2/3/4): \")\n",
        "\n",
        "        if choice == \"1\":\n",
        "            view_stops()\n",
        "        elif choice == \"2\":\n",
        "            stop_name = input(\"Enter the name of the stop to check: \").strip()\n",
        "            check_stop_exists(stop_name)\n",
        "        elif choice == \"3\":\n",
        "            stop_name = input(\"Enter the name of the stop to find distance: \").\n",
        "                                                                        strip()\n",
        "            find_distance_from_start(stop_name)\n",
        "        elif choice == \"4\":\n",
        "            print(\"Exiting the program.\")\n",
        "            break\n",
        "        else:\n",
        "            print(\"Invalid choice. Please try again.\")\n",
        "\n",
        "# Run the program\n",
        "main()\n"
      ]
    },
    {
      "cell_type": "markdown",
      "source": [
        "Simple Quiz App where questions and answers are stored in tuples."
      ],
      "metadata": {
        "id": "egL7upD63Dhf"
      }
    },
    {
      "cell_type": "code",
      "source": [
        "# List of questions and answers stored in tuples (question, correct_answer)\n",
        "quiz_data = (\n",
        "    (\"What is the capital of France?\", \"paris\"),\n",
        "    (\"What is 2 + 2?\", \"4\"),\n",
        "    (\"Who wrote 'Romeo and Juliet'?\", \"shakespeare\"),\n",
        "    (\"What is the largest planet in our solar system?\", \"jupiter\"),\n",
        "    (\"What is the square root of 16?\", \"4\")\n",
        ")\n",
        "\n",
        "def start_quiz():\n",
        "    score = 0\n",
        "    total_questions = len(quiz_data)\n",
        "\n",
        "    print(\"Welcome to the Simple Quiz App!\\n\")\n",
        "\n",
        "    # Iterate over the quiz data and ask the questions\n",
        "    for index, (question, correct_answer) in enumerate(quiz_data):\n",
        "        print(f\"Question {index + 1}: {question}\")\n",
        "        user_answer = input(\"Your answer: \").strip().lower()\n",
        "\n",
        "        # Check the answer\n",
        "        if user_answer == correct_answer:\n",
        "            print(\"✅ Correct!\")\n",
        "            score += 1\n",
        "        else:\n",
        "            print(f\"❌ Incorrect! The correct answer was: {correct_answer.capitalize()}\")\n",
        "        print()\n",
        "\n",
        "    # Show final score\n",
        "    print(f\"Quiz Over! You got {score} out of {total_questions} correct!\")\n",
        "\n",
        "# Run the quiz\n",
        "start_quiz()\n"
      ],
      "metadata": {
        "id": "oD8GWuhv3D0n"
      },
      "execution_count": null,
      "outputs": []
    }
  ]
}